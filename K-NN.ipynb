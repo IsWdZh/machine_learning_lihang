{
 "cells": [
  {
   "cell_type": "markdown",
   "metadata": {},
   "source": [
    "# K近邻法"
   ]
  },
  {
   "cell_type": "code",
   "execution_count": 3,
   "metadata": {},
   "outputs": [],
   "source": [
    "import math\n",
    "import numpy as np\n",
    "import pandas as pd\n",
    "from sklearn.model_selection import train_test_split\n",
    "from collections import Counter\n",
    "import data.mldataset as data"
   ]
  },
  {
   "cell_type": "code",
   "execution_count": 18,
   "metadata": {},
   "outputs": [],
   "source": [
    "class KNN:\n",
    "    def __init__(self, X_train, Y_train, p=2, k=3):\n",
    "        self.p = p\n",
    "        self.k = k\n",
    "        self.X_train = X_train\n",
    "        self.Y_train = Y_train\n",
    "    \n",
    "    def Lp(self, x1, x2, p=2):\n",
    "        '''\n",
    "            Define Lp distance\n",
    "            p = 1 is Manhattan distance\n",
    "            p = 2 is Euclidean distance\n",
    "        '''\n",
    "        if len(x1) == len(x2) and len(x1) > 1:     # each input have same feature\n",
    "            sum = 0\n",
    "            for i in range(len(x1)):\n",
    "                sum += math.pow(abs(x1[i]-x2[i]), p)\n",
    "            return math.pow(sum, 1/p)\n",
    "        else:\n",
    "            return 0\n",
    "    \n",
    "    def predict(self, x):\n",
    "        knn_list = []\n",
    "        for i in range(self.k):\n",
    "            # distance = self.Lp(X, self.X_train[i], p=self.p)\n",
    "            distance = np.linalg.norm(x-self.X_train[i], ord=self.p)   # self.p范数 (2范数)\n",
    "            knn_list.append((distance, self.Y_train[i]))   # add a tuple\n",
    "        \n",
    "        # first put 3 element, then keep replacing them with smaller ones\n",
    "        for i in range(self.k, len(self.X_train)):\n",
    "            max_index = knn_list.index(max(knn_list, key=lambda x: x[0]))\n",
    "            # distance = self.Lp(X, self.X_train[i], p=self.p)\n",
    "            distance = np.linalg.norm(x-self.X_train[i], ord=self.p)\n",
    "            if knn_list[max_index][0] > distance:\n",
    "                knn_list[max_index] = (distance, self.Y_train[i])\n",
    "        \n",
    "        knn = [k[-1] for k in knn_list]\n",
    "        count_pairs = Counter(knn)\n",
    "        max_count = sorted(count_pairs, key=lambda x:x)[-1]\n",
    "        return max_count\n",
    "    \n",
    "    def score(self, X_test, Y_test):\n",
    "        right = 0\n",
    "        for x, y in zip(X_test, Y_test):\n",
    "            label = self.predict(x)\n",
    "            if label == y:\n",
    "                right += 1\n",
    "        return right/len(X_test)"
   ]
  },
  {
   "cell_type": "markdown",
   "metadata": {},
   "source": [
    "## Iris dataset"
   ]
  },
  {
   "cell_type": "code",
   "execution_count": 19,
   "metadata": {},
   "outputs": [
    {
     "data": {
      "image/png": "[encoded data removed]",
      "text/plain": [
       "<matplotlib.figure.Figure at 0x7fefe6adbdd8>"
      ]
     },
     "metadata": {},
     "output_type": "display_data"
    }
   ],
   "source": [
    "X, Y = data.iris()\n",
    "X_train, X_test, Y_train, Y_test = train_test_split(X, Y, test_size=0.2)"
   ]
  },
  {
   "cell_type": "code",
   "execution_count": 20,
   "metadata": {},
   "outputs": [
    {
     "data": {
      "text/plain": [
       "1.0"
      ]
     },
     "execution_count": 20,
     "metadata": {},
     "output_type": "execute_result"
    }
   ],
   "source": [
    "clf = KNN(X_train, Y_train)\n",
    "clf.score(X_test, Y_test)"
   ]
  },
  {
   "cell_type": "markdown",
   "metadata": {},
   "source": [
    "## digit dataset"
   ]
  },
  {
   "cell_type": "code",
   "execution_count": 21,
   "metadata": {},
   "outputs": [],
   "source": [
    "X_train, X_test, Y_train, Y_test = data.digit()"
   ]
  },
  {
   "cell_type": "code",
   "execution_count": 22,
   "metadata": {},
   "outputs": [
    {
     "data": {
      "text/plain": [
       "0.9988655700510494"
      ]
     },
     "execution_count": 22,
     "metadata": {},
     "output_type": "execute_result"
    }
   ],
   "source": [
    "clf = KNN(X_train, Y_train)\n",
    "clf.score(X_test, Y_test)"
   ]
  },
  {
   "cell_type": "code",
   "execution_count": null,
   "metadata": {},
   "outputs": [],
   "source": []
  }
 ],
 "metadata": {
  "kernelspec": {
   "display_name": "Python 3",
   "language": "python",
   "name": "python3"
  },
  "language_info": {
   "codemirror_mode": {
    "name": "ipython",
    "version": 3
   },
   "file_extension": ".py",
   "mimetype": "text/x-python",
   "name": "python",
   "nbconvert_exporter": "python",
   "pygments_lexer": "ipython3",
   "version": "3.6.4"
  }
 },
 "nbformat": 4,
 "nbformat_minor": 2
}
