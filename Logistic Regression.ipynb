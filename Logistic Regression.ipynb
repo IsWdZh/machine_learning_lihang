{
 "cells": [
  {
   "cell_type": "code",
   "execution_count": 1,
   "metadata": {},
   "outputs": [],
   "source": [
    "import numpy as np\n",
    "import math\n",
    "from sklearn.model_selection import train_test_split\n",
    "import matplotlib.pyplot as plt\n",
    "import mldataset"
   ]
  },
  {
   "cell_type": "code",
   "execution_count": 2,
   "metadata": {},
   "outputs": [
    {
     "name": "stdout",
     "output_type": "stream",
     "text": [
      "[0. 0. 0. 0. 0. 0. 0. 0. 0. 0. 0. 0. 0. 0. 0. 0. 0. 0. 0. 0. 0. 0. 0. 0.\n",
      " 0. 0. 0. 0. 0. 0. 0. 0. 0. 0. 0. 0. 0. 0. 0. 0. 0. 0. 0. 0. 0. 0. 0. 0.\n",
      " 0. 0. 1. 1. 1. 1. 1. 1. 1. 1. 1. 1. 1. 1. 1. 1. 1. 1. 1. 1. 1. 1. 1. 1.\n",
      " 1. 1. 1. 1. 1. 1. 1. 1. 1. 1. 1. 1. 1. 1. 1. 1. 1. 1. 1. 1. 1. 1. 1. 1.\n",
      " 1. 1. 1. 1.]\n",
      "[0. 1. 1. 1. 1. 1. 0. 0. 0. 0. 1. 0. 0. 0. 0. 1. 0. 1. 1. 1. 0. 0. 1. 0.\n",
      " 1. 1. 0. 0. 0. 0. 1. 0. 0. 0. 0. 0. 0. 0. 1. 0. 0. 0. 0. 0. 1. 1. 0. 1.\n",
      " 1. 1. 1. 1. 0. 1. 0. 0. 1. 1. 0. 1. 0. 0. 1. 1. 1. 1. 1. 0. 0. 1.]\n"
     ]
    },
    {
     "data": {
      "image/png": "[encoded data removed]",
      "text/plain": [
       "<matplotlib.figure.Figure at 0x7f015dcca860>"
      ]
     },
     "metadata": {},
     "output_type": "display_data"
    }
   ],
   "source": [
    "X, Y = mldataset.iris()\n",
    "print(Y)\n",
    "X_train, X_test, Y_train, Y_test = train_test_split(X, Y, test_size=0.3)\n",
    "print(Y_train)"
   ]
  },
  {
   "cell_type": "code",
   "execution_count": 8,
   "metadata": {},
   "outputs": [
    {
     "data": {
      "text/plain": [
       "<matplotlib.legend.Legend at 0x7f0120203240>"
      ]
     },
     "execution_count": 8,
     "metadata": {},
     "output_type": "execute_result"
    },
    {
     "data": {
      "image/png": "[encoded data removed]",
      "text/plain": [
       "<matplotlib.figure.Figure at 0x7f01202e4748>"
      ]
     },
     "metadata": {},
     "output_type": "display_data"
    }
   ],
   "source": [
    "plt.scatter([X_train[i][0] for i in range(len(X_train)) if Y_train[i]==1], \\\n",
    "            [X_train[i][1] for i in range(len(X_train)) if Y_train[i]==1], label=\"1\")\n",
    "plt.scatter([X_train[i][0] for i in range(len(X_train)) if Y_train[i]==0], \\\n",
    "            [X_train[i][1] for i in range(len(X_train)) if Y_train[i]==0], label=\"0\")\n",
    "plt.title(\"Train datasets\")\n",
    "plt.legend()"
   ]
  },
  {
   "cell_type": "code",
   "execution_count": 19,
   "metadata": {},
   "outputs": [],
   "source": [
    "class Logistic_Regression():\n",
    "    def __init__(self, maxiter=200, lr=0.01):\n",
    "        self.maxiter=maxiter\n",
    "        self.lr=lr\n",
    "        self.weights = None\n",
    "        \n",
    "    def sigmoid(self, z):\n",
    "        return 1/(1+math.exp(-z))\n",
    "    \n",
    "    def data_matrix(self, X):\n",
    "        '''构造 w1x1 w2x2 w3x3... w1x1是最后的常数项， x1=1'''\n",
    "        data = []\n",
    "        for x in X:\n",
    "            # x是个对象, <class 'numpy.ndarray'>,所以这里使用*x指向其中内容\n",
    "            data.append([1.0, *x])\n",
    "        return data\n",
    "    \n",
    "    def fit(self, X, Y):\n",
    "        data = self.data_matrix(X)   # m×n  m：样本数量，n：特征数+1\n",
    "        self.weights = np.zeros((len(data[0]), 1), dtype=np.float32)\n",
    "        # self.weights = np.random.randn(len(data[0]), 1)\n",
    "        print(\"pre-training weight value is {}\\n\".format(self.weights))\n",
    "        \n",
    "        for iter in range(self.maxiter):\n",
    "            for i in range(len(data)):\n",
    "                # print(\"data[i] = {}, self.weights = {}\".format(data[i], self.weights))\n",
    "                # print(\"w*x = \", np.dot(data[i], self.weights))\n",
    "                result = self.sigmoid(np.dot(data[i], self.weights))\n",
    "                # print(\"reslut = {}, Y[i] = {}, Y[i]-reslut = {}\".format(result, Y[i], Y[i]-result))\n",
    "                # print(\"np.transpose([data[i]] = {}\\n\".format(np.transpose([data[i]])))\n",
    "                      # np.transpose()对一维不起作用，所以先将特征向量转为二维\n",
    "                self.weights += self.lr * (Y[i]-result) * np.transpose([data[i]])\n",
    "        print(\"lr = {}, max_iter = {}\".format(self.lr, self.maxiter))\n",
    "        print(\"\\nThe value of weights is \", self.weights)\n",
    "\n",
    "    def score(self, X_test, Y_test):\n",
    "        print(\"self.weights = {}\".format(self.weights))\n",
    "        X_test = self.data_matrix(X_test)\n",
    "        right = 0\n",
    "        for x, y in zip(X_test, Y_test):\n",
    "            # print(\"x = {}, y = {}\".format(x, y))\n",
    "            result = np.dot(x, self.weights)\n",
    "            if (result>0 and y==1) or (result<0 and y==0):\n",
    "                right += 1\n",
    "        return right/len(Y_test)\n",
    "        "
   ]
  },
  {
   "cell_type": "code",
   "execution_count": 20,
   "metadata": {},
   "outputs": [
    {
     "name": "stdout",
     "output_type": "stream",
     "text": [
      "pre-training weight value is [[0.]\n",
      " [0.]\n",
      " [0.]]\n",
      "\n",
      "lr = 0.01, max_iter = 200\n",
      "\n",
      "The value of weights is  [[-1.0120001]\n",
      " [ 3.4034395]\n",
      " [-5.605848 ]]\n"
     ]
    }
   ],
   "source": [
    "LR = Logistic_Regression()\n",
    "LR.fit(X_train, Y_train)"
   ]
  },
  {
   "cell_type": "code",
   "execution_count": 21,
   "metadata": {},
   "outputs": [
    {
     "name": "stdout",
     "output_type": "stream",
     "text": [
      "self.weights = [[-1.0120001]\n",
      " [ 3.4034395]\n",
      " [-5.605848 ]]\n"
     ]
    },
    {
     "data": {
      "text/plain": [
       "1.0"
      ]
     },
     "execution_count": 21,
     "metadata": {},
     "output_type": "execute_result"
    }
   ],
   "source": [
    "LR.score(X_test, Y_test)"
   ]
  },
  {
   "cell_type": "code",
   "execution_count": 14,
   "metadata": {},
   "outputs": [
    {
     "name": "stdout",
     "output_type": "stream",
     "text": [
      "[4 5 6 7]\n"
     ]
    },
    {
     "data": {
      "text/plain": [
       "<matplotlib.legend.Legend at 0x7f01200caf60>"
      ]
     },
     "execution_count": 14,
     "metadata": {},
     "output_type": "execute_result"
    },
    {
     "data": {
      "image/png": "[encoded data removed]",
      "text/plain": [
       "<matplotlib.figure.Figure at 0x7f01201d8940>"
      ]
     },
     "metadata": {},
     "output_type": "display_data"
    }
   ],
   "source": [
    "# print(X)\n",
    "x_min, x_max = X[0][0], X[0][0]\n",
    "for i in range(len(X)):\n",
    "    if X[i][0] < x_min:\n",
    "        x_min = X[i][0]\n",
    "    if X[i][0] > x_max:\n",
    "        x_max = X[i][0]\n",
    "x_min = math.floor(x_min)   # 向下取整\n",
    "x_max = math.ceil(x_max)   # 向上\n",
    "\n",
    "x_ = np.arange(x_min,x_max+1)\n",
    "print(x_)\n",
    "\n",
    "# 权重三个值[[w0],[w1],[w2]],对应每个样本的两个特征[1, x1, x2], w0+w1x1+w2x2=0 (x2是显示在坐标中的纵轴)\n",
    "# -> x2 = -(w0+w1x1)/w2\n",
    "y_ = -(LR.weights[1]*x_+LR.weights[0])/LR.weights[2]\n",
    "plt.plot(x_, y_)\n",
    "\n",
    "plt.scatter([X_train[i][0] for i in range(len(X_train)) if Y_train[i]==1], \\\n",
    "            [X_train[i][1] for i in range(len(X_train)) if Y_train[i]==1], label=\"1\")\n",
    "plt.scatter([X_train[i][0] for i in range(len(X_train)) if Y_train[i]==0], \\\n",
    "            [X_train[i][1] for i in range(len(X_train)) if Y_train[i]==0], label=\"0\")\n",
    "plt.title(\"Classify on train datasets\")\n",
    "# plt.scatter(X[:50,0],X[:50,1], label='0')\n",
    "# plt.scatter(X[50:,0],X[50:,1], label='1')\n",
    "plt.legend()"
   ]
  },
  {
   "cell_type": "code",
   "execution_count": 17,
   "metadata": {},
   "outputs": [
    {
     "data": {
      "text/plain": [
       "Text(0.5,1,'Classify on entire datasets')"
      ]
     },
     "execution_count": 17,
     "metadata": {},
     "output_type": "execute_result"
    },
    {
     "data": {
      "image/png": "[encoded data removed]",
      "text/plain": [
       "<matplotlib.figure.Figure at 0x7f0120099b70>"
      ]
     },
     "metadata": {},
     "output_type": "display_data"
    }
   ],
   "source": [
    "y_ = -(LR.weights[1]*x_+LR.weights[0])/LR.weights[2]\n",
    "plt.plot(x_, y_)\n",
    "plt.scatter(X[:50,0],X[:50,1], label='0')\n",
    "plt.scatter(X[50:,0],X[50:,1], label='1')\n",
    "plt.title(\"Classify on entire datasets\")"
   ]
  },
  {
   "cell_type": "code",
   "execution_count": null,
   "metadata": {},
   "outputs": [],
   "source": []
  }
 ],
 "metadata": {
  "kernelspec": {
   "display_name": "Python 3",
   "language": "python",
   "name": "python3"
  },
  "language_info": {
   "codemirror_mode": {
    "name": "ipython",
    "version": 3
   },
   "file_extension": ".py",
   "mimetype": "text/x-python",
   "name": "python",
   "nbconvert_exporter": "python",
   "pygments_lexer": "ipython3",
   "version": "3.6.4"
  }
 },
 "nbformat": 4,
 "nbformat_minor": 2
}
