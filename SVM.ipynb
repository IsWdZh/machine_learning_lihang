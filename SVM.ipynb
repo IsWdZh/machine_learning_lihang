{
 "cells": [
  {
   "cell_type": "markdown",
   "metadata": {},
   "source": [
    "# SVM 支持向量机"
   ]
  },
  {
   "cell_type": "markdown",
   "metadata": {},
   "source": [
    "**仍存在问题：**\n",
    "    经验证，训练集拟合效果仅为50%，学习效果不好。\n",
    "    后续再增加数据集，查找一下具体问题"
   ]
  },
  {
   "cell_type": "markdown",
   "metadata": {},
   "source": [
    "为了使不同label的数据可以统一为 ： yi(WTxi+b)≥1\n",
    "\n",
    "这里需要将数据集的label由0,1换为-1,1\n",
    "\n",
    "参考文章 https://www.jiqizhixin.com/articles/2018-10-17-20"
   ]
  },
  {
   "cell_type": "code",
   "execution_count": 9,
   "metadata": {},
   "outputs": [],
   "source": [
    "import numpy as np\n",
    "from sklearn.model_selection import train_test_split\n",
    "import matplotlib.pyplot as plt\n",
    "import mldataset as dataset\n",
    "import math"
   ]
  },
  {
   "cell_type": "code",
   "execution_count": 51,
   "metadata": {},
   "outputs": [
    {
     "data": {
      "image/png": "[encoded data removed]",
      "text/plain": [
       "<matplotlib.figure.Figure at 0x7f5bfe2d0748>"
      ]
     },
     "metadata": {},
     "output_type": "display_data"
    }
   ],
   "source": [
    "X, Y = dataset.iris()"
   ]
  },
  {
   "cell_type": "code",
   "execution_count": 107,
   "metadata": {},
   "outputs": [
    {
     "data": {
      "text/plain": [
       "<matplotlib.legend.Legend at 0x7f5bfe34c9b0>"
      ]
     },
     "execution_count": 107,
     "metadata": {},
     "output_type": "execute_result"
    },
    {
     "data": {
      "image/png": "[encoded data removed]",
      "text/plain": [
       "<matplotlib.figure.Figure at 0x7f5bfe1c3978>"
      ]
     },
     "metadata": {},
     "output_type": "display_data"
    }
   ],
   "source": [
    "Y = np.array([-1.0 if i==0 else i for i in Y])\n",
    "X_train, X_test, Y_train, Y_test = train_test_split(X, Y, test_size=0.3)\n",
    "\n",
    "\n",
    "plt.scatter([X_train[i][0] for i in range(len(X_train)) if Y_train[i]==-1], \\\n",
    "           [X_train[i][1] for i in range(len(X_train)) if Y_train[i]==-1], label=\"-1\")\n",
    "plt.scatter([X_train[i][0] for i in range(len(X_train)) if Y_train[i]==1], \\\n",
    "           [X_train[i][1] for i in range(len(X_train)) if Y_train[i]==1], label=\"1\")\n",
    "plt.title(\"Train\")\n",
    "plt.legend()"
   ]
  },
  {
   "cell_type": "code",
   "execution_count": 113,
   "metadata": {},
   "outputs": [],
   "source": [
    "class SVM(object):\n",
    "    def __init__(self, max_iter=300, C=1.0):\n",
    "        self.max_iter = max_iter\n",
    "        self.C = C\n",
    "        self.m, self.n = None, None\n",
    "        self.X, self.Y = None, None\n",
    "        self.alpha = None\n",
    "        self.b = 0.0\n",
    "        self.E = []\n",
    "        \n",
    "    def kernel_func(self, x1, x2):\n",
    "        '''poly   p=2'''\n",
    "        return math.pow(sum([x1[i]*x2[i] for i in range(len(x1))]) + 1, 2)\n",
    "    \n",
    "    def g_x(self, pos):\n",
    "        '''input a data index, calc with the whole dataset'''\n",
    "        g = sum([self.alpha[j]*self.Y[j]*self.kernel_func(self.X[j], self.X[pos]) for j in range(self.m)])+self.b\n",
    "        return g\n",
    "        \n",
    "    def kkt(self, pos):\n",
    "        '''kkt条件 input:index'''\n",
    "        if self.alpha[pos] == 0 and self.Y[pos]*self.g_x(pos)>=1:\n",
    "            return True\n",
    "        elif self.alpha[pos] == self.C and self.Y[pos]*self.g_x(pos)<=1:\n",
    "            return True\n",
    "        elif (self.alpha[pos]>0 and self.alpha[pos]<self.C) and self.Y[pos]*self.g_x(pos)>=1:\n",
    "            return True\n",
    "        else:\n",
    "            return False\n",
    "        \n",
    "    def fit(self, X_train=X_train, Y_train=X_train, X_test=np.array([]), Y_test=np.array([])):\n",
    "        '''train svm model'''\n",
    "        self.X, self.Y = X_train, Y_train\n",
    "        self.m, self.n = X_train.shape\n",
    "        self.alpha = np.ones(self.m)\n",
    "        self.E = [self.g_x(i)-self.Y[i] for i in range(self.m)]\n",
    "        \n",
    "        # start iteration\n",
    "        for i in range(self.max_iter):\n",
    "            # Outer traversal\n",
    "            outers = [i for i in range(self.m) if (self.alpha[i]>0 and self.alpha[i]<self.C)]\n",
    "            others = [j for j in range(self.m) if j not in outers]\n",
    "            outers.extend(others)\n",
    "            # print(\"outers = \", outers)\n",
    "            for pos in outers:\n",
    "                if self.kkt(pos):\n",
    "                    continue    # 遍历找到不满足kkt的变量，先外层\n",
    "                    \n",
    "                E1, i1 = self.E[pos], pos\n",
    "                if E1>=0:\n",
    "                    E2, i2 = min(self.E), self.E.index(min(self.E))\n",
    "                else:\n",
    "                    E2, i2 = max(self.E), self.E.index(max(self.E))\n",
    "                break\n",
    "                  \n",
    "            # find boundary L and H\n",
    "            alpha1, alpha2 = self.alpha[i1], self.alpha[i2]\n",
    "\n",
    "            y1, y2 = self.Y[i1], self.Y[i2]\n",
    "            if y1==y2:\n",
    "                L = max(0, alpha1 + alpha2 - self.C)\n",
    "                H = min(self.C, alpha1 + alpha2)\n",
    "            else:\n",
    "                L = max(0, alpha2 - alpha1)\n",
    "                H = min(self.C, self.C + alpha2 - alpha1)\n",
    "\n",
    "                eta = self.kernel_func(self.X[i1], self.X[i1]) + self.kernel_func(self.X[i2], self.X[i2]) - \\\n",
    "                      2 * self.kernel_func(self.X[i1], self.X[i2])\n",
    "                if eta <= 0:\n",
    "                    continue\n",
    "            \n",
    "            # 计算沿约束方向未经剪辑时的解\n",
    "            alpha2_new_unc = alpha2 + (self.Y[i2] * (E1 - E2))/eta\n",
    "            \n",
    "            # 计算剪辑后alpha2的解\n",
    "            if alpha2_new_unc > H:\n",
    "                alpha2_new = H\n",
    "            elif alpha2_new_unc < L:\n",
    "                alpha2_new = L\n",
    "            else:\n",
    "                alpha2_new = alpha2_new_unc\n",
    "                \n",
    "            alpha1_new = alpha1 + self.Y[i1] * self.Y[i2] * (alpha2 - alpha2_new)\n",
    "            \n",
    "            # 计算阈值b\n",
    "            b1_new = -self.E[i1] - self.Y[i1]*self.kernel_func(self.X[i1], self.X[i1])*(alpha1_new-alpha1) - \\\n",
    "                     self.Y[i2]*self.kernel_func(self.X[i2], self.X[i1])*(alpha2_new-alpha2) + self.b\n",
    "            b2_new = -self.E[i2] - self.Y[i1]*self.kernel_func(self.X[i1], self.X[i2])*(alpha1_new-alpha1) - \\\n",
    "                     self.Y[i2]*self.kernel_func(self.X[i2], self.X[i2])*(alpha2_new-alpha2) + self.b\n",
    "            \n",
    "            if alpha1_new > 0 and alpha1_new < self.C:\n",
    "                b_new = b1_new\n",
    "            elif alpha2_new > 0 and alpha2_new < self.C:\n",
    "                b_new = b2_new\n",
    "            elif (alpha1==0 or alpha1==self.C) or (alpha2==0 or alpha2==self.C):\n",
    "                b_new = (b1_new + b2_new) / 2\n",
    "            else:\n",
    "                exit(\"alpha1 or alpha2 calculate error!\")\n",
    "                \n",
    "                \n",
    "            # 更新参数\n",
    "            self.alpha[i1] = alpha1_new\n",
    "            self.alpha[i2] = alpha2_new\n",
    "            self.b = b_new\n",
    "            self.E[i1] = self.g_x(i1) - self.Y[i1]\n",
    "            self.E[i2] = self.g_x(i2) - self.Y[i2]\n",
    "            \n",
    "        if X_test.shape!=(0.) and Y_test.shape!=(0.):\n",
    "            acc = self.score(X_test, Y_test)\n",
    "            return acc\n",
    "            \n",
    "    def predict(self, x_test):\n",
    "        result = sum([self.alpha[i] * self.Y[i] * self.kernel_func(x_test, self.X[i]) for i in range(self.m)])\n",
    "        if result > 0:\n",
    "            return 1\n",
    "        else:\n",
    "            return -1\n",
    "        \n",
    "    def score(self, X_test, Y_test):\n",
    "        right = 0\n",
    "        for i in range(len(X_test)):\n",
    "            if self.predict(X_test[i]) == Y_test[i]:\n",
    "                right += 1\n",
    "        return right / len(X_test)"
   ]
  },
  {
   "cell_type": "code",
   "execution_count": 114,
   "metadata": {},
   "outputs": [],
   "source": [
    "svm = SVM()"
   ]
  },
  {
   "cell_type": "code",
   "execution_count": 115,
   "metadata": {
    "scrolled": true
   },
   "outputs": [
    {
     "data": {
      "text/plain": [
       "0.5"
      ]
     },
     "execution_count": 115,
     "metadata": {},
     "output_type": "execute_result"
    }
   ],
   "source": [
    "svm.fit(X_train, Y_train, X_test, Y_test)"
   ]
  },
  {
   "cell_type": "code",
   "execution_count": 117,
   "metadata": {},
   "outputs": [
    {
     "data": {
      "text/plain": [
       "0.5"
      ]
     },
     "execution_count": 117,
     "metadata": {},
     "output_type": "execute_result"
    }
   ],
   "source": [
    "svm.score(X_train, Y_train)"
   ]
  },
  {
   "cell_type": "code",
   "execution_count": null,
   "metadata": {},
   "outputs": [],
   "source": []
  }
 ],
 "metadata": {
  "kernelspec": {
   "display_name": "Python 3",
   "language": "python",
   "name": "python3"
  },
  "language_info": {
   "codemirror_mode": {
    "name": "ipython",
    "version": 3
   },
   "file_extension": ".py",
   "mimetype": "text/x-python",
   "name": "python",
   "nbconvert_exporter": "python",
   "pygments_lexer": "ipython3",
   "version": "3.6.4"
  }
 },
 "nbformat": 4,
 "nbformat_minor": 2
}
