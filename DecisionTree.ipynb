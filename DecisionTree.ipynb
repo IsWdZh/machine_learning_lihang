{
 "cells": [
  {
   "cell_type": "markdown",
   "metadata": {},
   "source": [
    "# 决策树"
   ]
  },
  {
   "cell_type": "code",
   "execution_count": 2,
   "metadata": {},
   "outputs": [],
   "source": [
    "import numpy as np\n",
    "import math\n",
    "from sklearn.model_selection import train_test_split\n",
    "import pandas as pd\n",
    "from math import log"
   ]
  },
  {
   "cell_type": "code",
   "execution_count": 3,
   "metadata": {},
   "outputs": [],
   "source": [
    "def create_data():\n",
    "    # 数据集和每个维度的名称\n",
    "    datasets = [['青年', '否', '否', '一般', '否'],\n",
    "               ['青年', '否', '否', '好', '否'],\n",
    "               ['青年', '是', '否', '好', '是'],\n",
    "               ['青年', '是', '是', '一般', '是'],\n",
    "               ['青年', '否', '否', '一般', '否'],\n",
    "               ['中年', '否', '否', '一般', '否'],\n",
    "               ['中年', '否', '否', '好', '否'],\n",
    "               ['中年', '是', '是', '好', '是'],\n",
    "               ['中年', '否', '是', '非常好', '是'],\n",
    "               ['中年', '否', '是', '非常好', '是'],\n",
    "               ['老年', '否', '是', '非常好', '是'],\n",
    "               ['老年', '否', '是', '好', '是'],\n",
    "               ['老年', '是', '否', '好', '是'],\n",
    "               ['老年', '是', '否', '非常好', '是'],\n",
    "               ['老年', '否', '否', '一般', '否'],\n",
    "               ]\n",
    "    labels = [u'年龄', u'有工作', u'有自己的房子', u'信贷情况', u'类别']\n",
    "    \n",
    "    datas = pd.DataFrame(datasets, columns=labels)\n",
    "    print(type(datas))\n",
    "    \n",
    "    #X_train, Y_train, X_test, Y_test = train_test_split(datasets, labels, test_size=0.3)\n",
    "    \n",
    "    return datas\n"
   ]
  },
  {
   "cell_type": "code",
   "execution_count": 4,
   "metadata": {},
   "outputs": [],
   "source": [
    "class Node:\n",
    "    def __init__(self, root=True, label=None, feature_name=None, feature=None):\n",
    "        self.root = root\n",
    "        self.label = label\n",
    "        self.feature_name = feature_name\n",
    "        self.feature = feature\n",
    "        self.tree = {}\n",
    "        self.result = {'label:': self.label, 'feature': self.feature, 'tree': self.tree}\n",
    "\n",
    "    def __repr__(self):\n",
    "        return '{}'.format(self.result)\n",
    "\n",
    "    def add_node(self, val, node):\n",
    "        self.tree[val] = node\n",
    "\n",
    "    def predict(self, features):\n",
    "        if self.root is True:\n",
    "            return self.label\n",
    "        return self.tree[features[self.feature]].predict(features)\n",
    "        "
   ]
  },
  {
   "cell_type": "code",
   "execution_count": 5,
   "metadata": {},
   "outputs": [],
   "source": [
    "class DTree:\n",
    "    def __init__(self, epsilon=0.1):\n",
    "        self.epsilon = epsilon\n",
    "        self._tree = {}\n",
    "\n",
    "    # 熵\n",
    "    @staticmethod\n",
    "    def calc_ent(datasets):  # datasets=np.array(train_data) 每个样本的[-1]是最终判断结果(label)\n",
    "        data_length = len(datasets)    # 样本数量\n",
    "        label_count = {}\n",
    "        for i in range(data_length):     # 遍历每个样本\n",
    "            label = datasets[i][-1]     # 取每个样本的label\n",
    "            if label not in label_count:     # 以label作为key建立字典\n",
    "                label_count[label] = 0\n",
    "            label_count[label] += 1    # 统计每个label的样本个数\n",
    "            \n",
    "        # math.log默认以e为底\n",
    "        ent = -sum([(p/data_length)*log(p/data_length, 2) for p in label_count.values()])\n",
    "        return ent\n",
    "\n",
    "    # 经验条件熵\n",
    "    def cond_ent(self, datasets, axis=0):\n",
    "        data_length = len(datasets)   # 样本数量\n",
    "        feature_sets = {}\n",
    "        for i in range(data_length):    # 遍历每个样本\n",
    "            feature = datasets[i][axis]    # 每个样本的第axis个特征（的选项），如第axis=0个特征，可能为青年/中年/老年\n",
    "            if feature not in feature_sets:\n",
    "                feature_sets[feature] = []   # 以每个样本的第axis个特征可能的取值为key建立字典 \n",
    "            feature_sets[feature].append(datasets[i])    # value为该样本（里面可能含有多个样本）\n",
    "            \n",
    "        # 将每个样本输入熵计算中   (该特征相同的样本数/样本数量)*该特征相同的所有样本的熵\n",
    "        cond_ent = sum([(len(p)/data_length)*self.calc_ent(p) for p in feature_sets.values()])\n",
    "        return cond_ent\n",
    "\n",
    "    # 信息增益\n",
    "    @staticmethod\n",
    "    def info_gain(ent, cond_ent):\n",
    "        return ent - cond_ent\n",
    "\n",
    "    def info_gain_train(self, datasets):     # datasets=np.array(train_data)\n",
    "        count = len(datasets[0]) - 1     # 计算第一个样本的长度（-1是减掉最终判断结果），即特征数量\n",
    "        ent = self.calc_ent(datasets)  # 计算 熵\n",
    "        best_feature = []\n",
    "        for c in range(count):\n",
    "            c_info_gain = self.info_gain(ent, self.cond_ent(datasets, axis=c)) # 遍历输入每个特征，不包括最后的判断值\n",
    "            best_feature.append((c, c_info_gain))   # 每个特征及其信息增益 ，元组形式保存在列表中\n",
    "        # 比较大小\n",
    "        best_ = max(best_feature, key=lambda x: x[-1])# 按元组[-1]位置的值，取最大，返回该元组\n",
    "        return best_    # 返回的是元组（特征所在位置索引值， 信息增益）\n",
    "\n",
    "    def train(self, train_data):\n",
    "        \"\"\"\n",
    "        input:数据集D(DataFrame格式)，特征集A，阈值eta\n",
    "        output:决策树T\n",
    "        \"\"\"\n",
    "             # iloc索引行，y_train取train_data的最后一列, features按列取每列第一个，即类别。\n",
    "        _, y_train, features = train_data.iloc[:, :-1], train_data.iloc[:, -1], train_data.columns[:-1]\n",
    "        # 1,若D中实例属于同一类Ck，则T为单节点树，并将类Ck作为结点的类标记，返回T\n",
    "        if len(y_train.value_counts()) == 1:      # ==2 有两类。统计各个类别的个数 是 9  否 6\n",
    "            return Node(root=True,\n",
    "                        label=y_train.iloc[0])    # 将第一个的类别输入\n",
    "\n",
    "        # 2, 若A为空，则T为单节点树，将D中实例树最大的类Ck作为该节点的类标记，返回T\n",
    "        if len(features) == 0:\n",
    "            # 按数量排序并取最多的那个\n",
    "            return Node(root=True, label=y_train.value_counts().sort_values(ascending=False).index[0])\n",
    "\n",
    "        # 3,计算最大信息增益 同5.1,Ag为信息增益最大的特征\n",
    "        max_feature, max_info_gain = self.info_gain_train(np.array(train_data))# 转为特征矩阵输入，计算最大信息增益\n",
    "        max_feature_name = features[max_feature]    # 根据索引值获得具有最大信息增益的特征名称\n",
    "\n",
    "        # 4,Ag的信息增益小于阈值eta,则置T为单节点树，并将D中是实例数最大的类Ck作为该节点的类标记，返回T\n",
    "        if max_info_gain < self.epsilon:\n",
    "            return Node(root=True, label=y_train.value_counts().sort_values(ascending=False).index[0])\n",
    "\n",
    "        # 5,构建Ag子集\n",
    "        node_tree = Node(root=False, feature_name=max_feature_name, feature=max_feature)\n",
    "\n",
    "        # 统计该特征下所有类型的值（末尾的.index-> Index(['老年', '中年', '青年'], dtype='object') ）类似set()\n",
    "        feature_list = train_data[max_feature_name].value_counts().index \n",
    "        for f in feature_list:\n",
    "            sub_train_df = train_data.loc[train_data[max_feature_name] == f].drop([max_feature_name], axis=1)\n",
    "\n",
    "            # 6, 递归生成树\n",
    "            sub_tree = self.train(sub_train_df)\n",
    "            node_tree.add_node(f, sub_tree)\n",
    "\n",
    "        # pprint.pprint(node_tree.tree)\n",
    "        return node_tree\n",
    "\n",
    "    def fit(self, train_data):\n",
    "        self._tree = self.train(train_data)\n",
    "        return self._tree\n",
    "\n",
    "    def predict(self, X_test):\n",
    "        return self._tree.predict(X_test)"
   ]
  },
  {
   "cell_type": "code",
   "execution_count": 15,
   "metadata": {},
   "outputs": [
    {
     "name": "stdout",
     "output_type": "stream",
     "text": [
      "<class 'pandas.core.frame.DataFrame'>\n",
      "    年龄 有工作 有自己的房子 信贷情况 类别\n",
      "0   青年   否      否   一般  否\n",
      "1   青年   否      否    好  否\n",
      "2   青年   是      否    好  是\n",
      "3   青年   是      是   一般  是\n",
      "4   青年   否      否   一般  否\n",
      "5   中年   否      否   一般  否\n",
      "6   中年   否      否    好  否\n",
      "7   中年   是      是    好  是\n",
      "8   中年   否      是  非常好  是\n",
      "9   中年   否      是  非常好  是\n",
      "10  老年   否      是  非常好  是\n",
      "11  老年   否      是    好  是\n",
      "12  老年   是      否    好  是\n",
      "13  老年   是      否  非常好  是\n",
      "14  老年   否      否   一般  否\n",
      "Index(['老年', '中年', '青年'], dtype='object')\n",
      "y_train =  0     否\n",
      "1     否\n",
      "2     是\n",
      "3     是\n",
      "4     否\n",
      "5     否\n",
      "6     否\n",
      "7     是\n",
      "8     是\n",
      "9     是\n",
      "10    是\n",
      "11    是\n",
      "12    是\n",
      "13    是\n",
      "14    否\n",
      "Name: 类别, dtype: object\n",
      "features =  Index(['年龄', '有工作', '有自己的房子', '信贷情况'], dtype='object')\n",
      "[['青年' '否' '否' '一般' '否']\n",
      " ['青年' '否' '否' '好' '否']\n",
      " ['青年' '是' '否' '好' '是']\n",
      " ['青年' '是' '是' '一般' '是']\n",
      " ['青年' '否' '否' '一般' '否']\n",
      " ['中年' '否' '否' '一般' '否']\n",
      " ['中年' '否' '否' '好' '否']\n",
      " ['中年' '是' '是' '好' '是']\n",
      " ['中年' '否' '是' '非常好' '是']\n",
      " ['中年' '否' '是' '非常好' '是']\n",
      " ['老年' '否' '是' '非常好' '是']\n",
      " ['老年' '否' '是' '好' '是']\n",
      " ['老年' '是' '否' '好' '是']\n",
      " ['老年' '是' '否' '非常好' '是']\n",
      " ['老年' '否' '否' '一般' '否']]\n",
      "是    9\n",
      "否    6\n",
      "Name: 类别, dtype: int64\n",
      "是\n"
     ]
    }
   ],
   "source": [
    "train_data = create_data()\n",
    "# print(train_data)\n",
    "_, y_train, features = train_data.iloc[:, :-1], train_data.iloc[:, -1], train_data.columns[:-1]\n",
    "print(train_data)\n",
    "feature_list = train_data[\"年龄\"].value_counts().index\n",
    "print(train_data[\"年龄\"].value_counts().index)\n",
    "print(\"y_train = \", y_train)\n",
    "print(\"features = \", features)\n",
    "print(np.array(train_data))\n",
    "print(y_train.value_counts())\n",
    "print(y_train.value_counts().sort_values(ascending=False).index[0])\n",
    "\n",
    "\n",
    "dt = DTree()\n",
    "tree = dt.fit(train_data)"
   ]
  },
  {
   "cell_type": "code",
   "execution_count": 35,
   "metadata": {},
   "outputs": [
    {
     "data": {
      "text/plain": [
       "'否'"
      ]
     },
     "execution_count": 35,
     "metadata": {},
     "output_type": "execute_result"
    }
   ],
   "source": [
    "dt.predict(['老年', '否', '否', '一般'])"
   ]
  },
  {
   "cell_type": "markdown",
   "metadata": {},
   "source": [
    "# sklearn"
   ]
  },
  {
   "cell_type": "code",
   "execution_count": null,
   "metadata": {},
   "outputs": [],
   "source": [
    "from sklearn.tree import DecisionTreeClassifier\n",
    "\n",
    "from sklearn.tree import export_graphviz\n",
    "import graphviz"
   ]
  },
  {
   "cell_type": "code",
   "execution_count": null,
   "metadata": {},
   "outputs": [],
   "source": [
    "def create_data():\n",
    "    iris = load_iris()\n",
    "    df = pd.DataFrame(iris.data, columns=iris.feature_names)\n",
    "    df['label'] = iris.target\n",
    "    df.columns = ['sepal length', 'sepal width', 'petal length', 'petal width', 'label']\n",
    "    data = np.array(df.iloc[:100, [0, 1, -1]])\n",
    "    # print(data)\n",
    "    return data[:,:2], data[:,-1]\n",
    "\n",
    "X, y = create_data()\n",
    "X_train, X_test, y_train, y_test = train_test_split(X, y, test_size=0.3)"
   ]
  },
  {
   "cell_type": "code",
   "execution_count": null,
   "metadata": {},
   "outputs": [],
   "source": [
    "clf = DecisionTreeClassifier()\n",
    "clf.fit(X_train, y_train,)\n",
    "\n",
    "clf.score(X_test, y_test)"
   ]
  },
  {
   "cell_type": "code",
   "execution_count": null,
   "metadata": {},
   "outputs": [],
   "source": [
    "tree_pic = export_graphviz(clf, out_file=\"mytree.pdf\")\n",
    "with open('mytree.pdf') as f:\n",
    "    dot_graph = f.read()"
   ]
  },
  {
   "cell_type": "code",
   "execution_count": null,
   "metadata": {},
   "outputs": [],
   "source": [
    "graphviz.Source(dot_graph)"
   ]
  }
 ],
 "metadata": {
  "kernelspec": {
   "display_name": "Python 3",
   "language": "python",
   "name": "python3"
  },
  "language_info": {
   "codemirror_mode": {
    "name": "ipython",
    "version": 3
   },
   "file_extension": ".py",
   "mimetype": "text/x-python",
   "name": "python",
   "nbconvert_exporter": "python",
   "pygments_lexer": "ipython3",
   "version": "3.6.4"
  }
 },
 "nbformat": 4,
 "nbformat_minor": 2
}
